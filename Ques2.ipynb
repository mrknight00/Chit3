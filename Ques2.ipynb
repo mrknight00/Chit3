{
 "cells": [
  {
   "cell_type": "code",
   "execution_count": 43,
   "metadata": {},
   "outputs": [],
   "source": [
    "import pandas as pd\n",
    "import numpy as np\n",
    "import seaborn as sns\n",
    "import math\n",
    "import statistics\n",
    "import scipy.stats"
   ]
  },
  {
   "cell_type": "code",
   "execution_count": 44,
   "metadata": {},
   "outputs": [
    {
     "data": {
      "text/html": [
       "<div>\n",
       "<style scoped>\n",
       "    .dataframe tbody tr th:only-of-type {\n",
       "        vertical-align: middle;\n",
       "    }\n",
       "\n",
       "    .dataframe tbody tr th {\n",
       "        vertical-align: top;\n",
       "    }\n",
       "\n",
       "    .dataframe thead th {\n",
       "        text-align: right;\n",
       "    }\n",
       "</style>\n",
       "<table border=\"1\" class=\"dataframe\">\n",
       "  <thead>\n",
       "    <tr style=\"text-align: right;\">\n",
       "      <th></th>\n",
       "      <th>Id</th>\n",
       "      <th>SepalLengthCm</th>\n",
       "      <th>SepalWidthCm</th>\n",
       "      <th>PetalLengthCm</th>\n",
       "      <th>PetalWidthCm</th>\n",
       "      <th>Species</th>\n",
       "    </tr>\n",
       "  </thead>\n",
       "  <tbody>\n",
       "    <tr>\n",
       "      <th>0</th>\n",
       "      <td>1</td>\n",
       "      <td>5.1</td>\n",
       "      <td>3.5</td>\n",
       "      <td>1.4</td>\n",
       "      <td>0.2</td>\n",
       "      <td>Iris-setosa</td>\n",
       "    </tr>\n",
       "    <tr>\n",
       "      <th>1</th>\n",
       "      <td>2</td>\n",
       "      <td>4.9</td>\n",
       "      <td>3.0</td>\n",
       "      <td>1.4</td>\n",
       "      <td>0.2</td>\n",
       "      <td>Iris-setosa</td>\n",
       "    </tr>\n",
       "    <tr>\n",
       "      <th>2</th>\n",
       "      <td>3</td>\n",
       "      <td>4.7</td>\n",
       "      <td>3.2</td>\n",
       "      <td>1.3</td>\n",
       "      <td>0.2</td>\n",
       "      <td>Iris-setosa</td>\n",
       "    </tr>\n",
       "    <tr>\n",
       "      <th>3</th>\n",
       "      <td>4</td>\n",
       "      <td>4.6</td>\n",
       "      <td>3.1</td>\n",
       "      <td>1.5</td>\n",
       "      <td>0.2</td>\n",
       "      <td>Iris-setosa</td>\n",
       "    </tr>\n",
       "    <tr>\n",
       "      <th>4</th>\n",
       "      <td>5</td>\n",
       "      <td>5.0</td>\n",
       "      <td>3.6</td>\n",
       "      <td>1.4</td>\n",
       "      <td>0.2</td>\n",
       "      <td>Iris-setosa</td>\n",
       "    </tr>\n",
       "    <tr>\n",
       "      <th>...</th>\n",
       "      <td>...</td>\n",
       "      <td>...</td>\n",
       "      <td>...</td>\n",
       "      <td>...</td>\n",
       "      <td>...</td>\n",
       "      <td>...</td>\n",
       "    </tr>\n",
       "    <tr>\n",
       "      <th>145</th>\n",
       "      <td>146</td>\n",
       "      <td>6.7</td>\n",
       "      <td>3.0</td>\n",
       "      <td>5.2</td>\n",
       "      <td>2.3</td>\n",
       "      <td>Iris-virginica</td>\n",
       "    </tr>\n",
       "    <tr>\n",
       "      <th>146</th>\n",
       "      <td>147</td>\n",
       "      <td>6.3</td>\n",
       "      <td>2.5</td>\n",
       "      <td>5.0</td>\n",
       "      <td>1.9</td>\n",
       "      <td>Iris-virginica</td>\n",
       "    </tr>\n",
       "    <tr>\n",
       "      <th>147</th>\n",
       "      <td>148</td>\n",
       "      <td>6.5</td>\n",
       "      <td>3.0</td>\n",
       "      <td>5.2</td>\n",
       "      <td>2.0</td>\n",
       "      <td>Iris-virginica</td>\n",
       "    </tr>\n",
       "    <tr>\n",
       "      <th>148</th>\n",
       "      <td>149</td>\n",
       "      <td>6.2</td>\n",
       "      <td>3.4</td>\n",
       "      <td>5.4</td>\n",
       "      <td>2.3</td>\n",
       "      <td>Iris-virginica</td>\n",
       "    </tr>\n",
       "    <tr>\n",
       "      <th>149</th>\n",
       "      <td>150</td>\n",
       "      <td>5.9</td>\n",
       "      <td>3.0</td>\n",
       "      <td>5.1</td>\n",
       "      <td>1.8</td>\n",
       "      <td>Iris-virginica</td>\n",
       "    </tr>\n",
       "  </tbody>\n",
       "</table>\n",
       "<p>150 rows × 6 columns</p>\n",
       "</div>"
      ],
      "text/plain": [
       "      Id  SepalLengthCm  SepalWidthCm  PetalLengthCm  PetalWidthCm   \n",
       "0      1            5.1           3.5            1.4           0.2  \\\n",
       "1      2            4.9           3.0            1.4           0.2   \n",
       "2      3            4.7           3.2            1.3           0.2   \n",
       "3      4            4.6           3.1            1.5           0.2   \n",
       "4      5            5.0           3.6            1.4           0.2   \n",
       "..   ...            ...           ...            ...           ...   \n",
       "145  146            6.7           3.0            5.2           2.3   \n",
       "146  147            6.3           2.5            5.0           1.9   \n",
       "147  148            6.5           3.0            5.2           2.0   \n",
       "148  149            6.2           3.4            5.4           2.3   \n",
       "149  150            5.9           3.0            5.1           1.8   \n",
       "\n",
       "            Species  \n",
       "0       Iris-setosa  \n",
       "1       Iris-setosa  \n",
       "2       Iris-setosa  \n",
       "3       Iris-setosa  \n",
       "4       Iris-setosa  \n",
       "..              ...  \n",
       "145  Iris-virginica  \n",
       "146  Iris-virginica  \n",
       "147  Iris-virginica  \n",
       "148  Iris-virginica  \n",
       "149  Iris-virginica  \n",
       "\n",
       "[150 rows x 6 columns]"
      ]
     },
     "execution_count": 44,
     "metadata": {},
     "output_type": "execute_result"
    }
   ],
   "source": [
    "df=pd.read_csv(\"Iris.csv\")\n",
    "df"
   ]
  },
  {
   "cell_type": "code",
   "execution_count": 45,
   "metadata": {},
   "outputs": [
    {
     "data": {
      "text/plain": [
       "array(['Iris-setosa', 'Iris-versicolor', 'Iris-virginica'], dtype=object)"
      ]
     },
     "execution_count": 45,
     "metadata": {},
     "output_type": "execute_result"
    }
   ],
   "source": [
    "df['Species'].unique()"
   ]
  },
  {
   "cell_type": "code",
   "execution_count": 46,
   "metadata": {},
   "outputs": [],
   "source": [
    "setosa=df[df['Species']=='Iris-setosa']\n",
    "setosa=setosa.drop(['Id'],axis=1)\n",
    "virginica=df[df['Species']=='Iris-virginica']\n",
    "virginica=virginica.drop(['Id'],axis=1)\n",
    "versicolor=df[df['Species']=='Iris-versicolor']\n",
    "versicolor=versicolor.drop(['Id'],axis=1)\n",
    "# setosa"
   ]
  },
  {
   "cell_type": "code",
   "execution_count": 56,
   "metadata": {},
   "outputs": [
    {
     "name": "stdout",
     "output_type": "stream",
     "text": [
      "Variance for each species of Sepal Length\n",
      " Species\n",
      "Iris-setosa        0.124249\n",
      "Iris-versicolor    0.266433\n",
      "Iris-virginica     0.404343\n",
      "Name: SepalLengthCm, dtype: float64\n",
      "\n",
      "Variance for each species of Sepal Width\n",
      " Species\n",
      "Iris-setosa        0.145180\n",
      "Iris-versicolor    0.098469\n",
      "Iris-virginica     0.104004\n",
      "Name: SepalWidthCm, dtype: float64\n",
      "\n",
      "Variance for each species of Petal Length\n",
      " Species\n",
      "Iris-setosa        0.030106\n",
      "Iris-versicolor    0.220816\n",
      "Iris-virginica     0.304588\n",
      "Name: PetalLengthCm, dtype: float64\n",
      "\n",
      "Variance for each species of Petal Width\n",
      " Species\n",
      "Iris-setosa        0.011494\n",
      "Iris-versicolor    0.039106\n",
      "Iris-virginica     0.075433\n",
      "Name: PetalWidthCm, dtype: float64\n"
     ]
    }
   ],
   "source": [
    "grouped_data = df.groupby('Species')['SepalLengthCm']\n",
    "grouped_data2 = df.groupby('Species')[\"SepalWidthCm\"]\n",
    "grouped_data3 = df.groupby('Species')['PetalLengthCm']\n",
    "grouped_data4 = df.groupby('Species')['PetalWidthCm']\n",
    "\n",
    "# Calculate the variance for each species using the formula karayla lavla tarach\n",
    "variances = grouped_data.apply(lambda x: np.sum((x - x.mean())**2) / (len(x) - 1))\n",
    "variances2 = grouped_data2.apply(lambda x: np.sum((x - x.mean())**2) / (len(x) - 1))\n",
    "variances3 = grouped_data3.apply(lambda x: np.sum((x - x.mean())**2) / (len(x) - 1))\n",
    "variances4 = grouped_data4.apply(lambda x: np.sum((x - x.mean())**2) / (len(x) - 1))\n",
    "print(\"Variance for each species of Sepal Length\\n\",variances)\n",
    "print(\"\\nVariance for each species of Sepal Width\\n\",variances2)\n",
    "print(\"\\nVariance for each species of Petal Length\\n\",variances3)\n",
    "print(\"\\nVariance for each species of Petal Width\\n\",variances4)"
   ]
  },
  {
   "cell_type": "code",
   "execution_count": 48,
   "metadata": {},
   "outputs": [
    {
     "name": "stdout",
     "output_type": "stream",
     "text": [
      "---SETOSA---\n",
      " SepalLengthCm    0.124249\n",
      "SepalWidthCm     0.145180\n",
      "PetalLengthCm    0.030106\n",
      "PetalWidthCm     0.011494\n",
      "dtype: float64\n",
      "\n",
      "---VIRGINICA---\n",
      " SepalLengthCm    0.404343\n",
      "SepalWidthCm     0.104004\n",
      "PetalLengthCm    0.304588\n",
      "PetalWidthCm     0.075433\n",
      "dtype: float64\n",
      "\n",
      "---VERSICOLOR---\n",
      " SepalLengthCm    0.266433\n",
      "SepalWidthCm     0.098469\n",
      "PetalLengthCm    0.220816\n",
      "PetalWidthCm     0.039106\n",
      "dtype: float64\n"
     ]
    }
   ],
   "source": [
    "#Calculating Variance for each species\n",
    "setosa_variance=setosa.var(numeric_only=True)\n",
    "print(\"---SETOSA---\\n\",setosa_variance)\n",
    "virginica_variance=virginica.var(numeric_only=True)\n",
    "print(\"\\n---VIRGINICA---\\n\",virginica_variance)\n",
    "versicolor_variance=versicolor.var(numeric_only=True)\n",
    "print(\"\\n---VERSICOLOR---\\n\",versicolor_variance)\n"
   ]
  },
  {
   "cell_type": "code",
   "execution_count": 49,
   "metadata": {},
   "outputs": [
    {
     "name": "stdout",
     "output_type": "stream",
     "text": [
      "Standard Deviation for each species of Sepal Length\n",
      " Species\n",
      "Iris-setosa        0.352490\n",
      "Iris-versicolor    0.516171\n",
      "Iris-virginica     0.635880\n",
      "Name: SepalLengthCm, dtype: float64\n",
      "\n",
      "Standard Deviation for each species of Sepal Width\n",
      " Species\n",
      "Iris-setosa        0.381024\n",
      "Iris-versicolor    0.313798\n",
      "Iris-virginica     0.322497\n",
      "Name: SepalWidthCm, dtype: float64\n",
      "\n",
      "Standard Deviation for each species of Petal Length\n",
      " Species\n",
      "Iris-setosa        0.173511\n",
      "Iris-versicolor    0.469911\n",
      "Iris-virginica     0.551895\n",
      "Name: PetalLengthCm, dtype: float64\n",
      "\n",
      "Standard Deviation for each species of Petal Width\n",
      " Species\n",
      "Iris-setosa        0.107210\n",
      "Iris-versicolor    0.197753\n",
      "Iris-virginica     0.274650\n",
      "Name: PetalWidthCm, dtype: float64\n"
     ]
    }
   ],
   "source": [
    "std=variances**0.5\n",
    "std2=variances2**0.5\n",
    "std3=variances3**0.5\n",
    "std4=variances4**0.5\n",
    "print(\"Standard Deviation for each species of Sepal Length\\n\",std)\n",
    "print(\"\\nStandard Deviation for each species of Sepal Width\\n\",std2)\n",
    "print(\"\\nStandard Deviation for each species of Petal Length\\n\",std3)\n",
    "print(\"\\nStandard Deviation for each species of Petal Width\\n\",std4)"
   ]
  },
  {
   "cell_type": "code",
   "execution_count": 50,
   "metadata": {},
   "outputs": [
    {
     "name": "stdout",
     "output_type": "stream",
     "text": [
      "---SETOSA---\n",
      " SepalLengthCm    0.352490\n",
      "SepalWidthCm     0.381024\n",
      "PetalLengthCm    0.173511\n",
      "PetalWidthCm     0.107210\n",
      "dtype: float64\n",
      "\n",
      "---VIRGINICA---\n",
      " SepalLengthCm    0.635880\n",
      "SepalWidthCm     0.322497\n",
      "PetalLengthCm    0.551895\n",
      "PetalWidthCm     0.274650\n",
      "dtype: float64\n",
      "\n",
      "---VERSICOLOR---\n",
      " SepalLengthCm    0.516171\n",
      "SepalWidthCm     0.313798\n",
      "PetalLengthCm    0.469911\n",
      "PetalWidthCm     0.197753\n",
      "dtype: float64\n"
     ]
    }
   ],
   "source": [
    "#Calculating Standard Deviation for each species\n",
    "setosa_std=setosa.std(numeric_only=True)\n",
    "print(\"---SETOSA---\\n\",setosa_std)\n",
    "virginica_std=virginica.std(numeric_only=True)\n",
    "print(\"\\n---VIRGINICA---\\n\",virginica_std)\n",
    "versicolor_std=versicolor.std(numeric_only=True)\n",
    "print(\"\\n---VERSICOLOR---\\n\",versicolor_std)\n"
   ]
  },
  {
   "cell_type": "code",
   "execution_count": 51,
   "metadata": {},
   "outputs": [
    {
     "name": "stdout",
     "output_type": "stream",
     "text": [
      "Mean for Sepal Length\n",
      " Species\n",
      "Iris-setosa        5.006\n",
      "Iris-versicolor    5.936\n",
      "Iris-virginica     6.588\n",
      "Name: SepalLengthCm, dtype: float64\n",
      "\n",
      "Mean for Sepal Width\n",
      " Species\n",
      "Iris-setosa        5.006\n",
      "Iris-versicolor    5.936\n",
      "Iris-virginica     6.588\n",
      "Name: SepalLengthCm, dtype: float64\n",
      "\n",
      "Mean for Petal Length\n",
      " Species\n",
      "Iris-setosa        5.006\n",
      "Iris-versicolor    5.936\n",
      "Iris-virginica     6.588\n",
      "Name: SepalLengthCm, dtype: float64\n",
      "\n",
      "Mean for Sepal Width\n",
      " Species\n",
      "Iris-setosa        5.006\n",
      "Iris-versicolor    5.936\n",
      "Iris-virginica     6.588\n",
      "Name: SepalLengthCm, dtype: float64\n",
      "---SETOSA---\n",
      " SepalLengthCm    5.006\n",
      "SepalWidthCm     3.418\n",
      "PetalLengthCm    1.464\n",
      "PetalWidthCm     0.244\n",
      "dtype: float64\n",
      "\n",
      "---VIRGINICA---\n",
      " SepalLengthCm    6.588\n",
      "SepalWidthCm     2.974\n",
      "PetalLengthCm    5.552\n",
      "PetalWidthCm     2.026\n",
      "dtype: float64\n",
      "\n",
      "---VERSICOLOR---\n",
      " SepalLengthCm    5.936\n",
      "SepalWidthCm     2.770\n",
      "PetalLengthCm    4.260\n",
      "PetalWidthCm     1.326\n",
      "dtype: float64\n"
     ]
    }
   ],
   "source": [
    "# Calculating mean by formula karayla lavla tarach\n",
    "mean= grouped_data.apply(lambda x: np.sum(x) / len(x))\n",
    "print(\"Mean for Sepal Length\\n\",mean)\n",
    "mean= grouped_data.apply(lambda x: np.sum(x) / len(x))\n",
    "print(\"\\nMean for Sepal Width\\n\",mean)\n",
    "mean= grouped_data.apply(lambda x: np.sum(x) / len(x))\n",
    "print(\"\\nMean for Petal Length\\n\",mean)\n",
    "mean= grouped_data.apply(lambda x: np.sum(x) / len(x))\n",
    "print(\"\\nMean for Sepal Width\\n\",mean)\n",
    "\n",
    "#Calculating Mean for each species\n",
    "\n",
    "setosa_mean=setosa.mean(numeric_only=True)\n",
    "print(\"---SETOSA---\\n\",setosa_mean)\n",
    "virginica_mean=virginica.mean(numeric_only=True)\n",
    "print(\"\\n---VIRGINICA---\\n\",virginica_mean)\n",
    "versicolor_mean=versicolor.mean(numeric_only=True)\n",
    "print(\"\\n---VERSICOLOR---\\n\",versicolor_mean)\n"
   ]
  },
  {
   "cell_type": "code",
   "execution_count": 52,
   "metadata": {},
   "outputs": [
    {
     "name": "stdout",
     "output_type": "stream",
     "text": [
      "---SETOSA---\n",
      " SepalLengthCm    5.0\n",
      "SepalWidthCm     3.4\n",
      "PetalLengthCm    1.5\n",
      "PetalWidthCm     0.2\n",
      "dtype: float64\n",
      "\n",
      "---VIRGINICA---\n",
      " SepalLengthCm    6.50\n",
      "SepalWidthCm     3.00\n",
      "PetalLengthCm    5.55\n",
      "PetalWidthCm     2.00\n",
      "dtype: float64\n",
      "\n",
      "---VERSICOLOR---\n",
      " SepalLengthCm    5.90\n",
      "SepalWidthCm     2.80\n",
      "PetalLengthCm    4.35\n",
      "PetalWidthCm     1.30\n",
      "dtype: float64\n"
     ]
    }
   ],
   "source": [
    "#Calculating Median for each species\n",
    "setosa_median=setosa.median(numeric_only=True)\n",
    "print(\"---SETOSA---\\n\",setosa_median)\n",
    "virginica_median=virginica.median(numeric_only=True)\n",
    "print(\"\\n---VIRGINICA---\\n\",virginica_median)\n",
    "versicolor_median=versicolor.median(numeric_only=True)\n",
    "print(\"\\n---VERSICOLOR---\\n\",versicolor_median)\n"
   ]
  },
  {
   "cell_type": "code",
   "execution_count": 53,
   "metadata": {},
   "outputs": [
    {
     "name": "stdout",
     "output_type": "stream",
     "text": [
      "---SETOSA---\n",
      "    SepalLengthCm  SepalWidthCm  PetalLengthCm  PetalWidthCm\n",
      "0            5.0           3.4            1.5           0.2\n",
      "1            5.1           NaN            NaN           NaN\n",
      "\n",
      "---VIRGINICA---\n",
      "    SepalLengthCm  SepalWidthCm  PetalLengthCm  PetalWidthCm\n",
      "0            6.3           3.0            5.1           1.8\n",
      "\n",
      "---VERSICOLOR---\n",
      "    SepalLengthCm  SepalWidthCm  PetalLengthCm  PetalWidthCm\n",
      "0            5.5           3.0            4.5           1.3\n",
      "1            5.6           NaN            NaN           NaN\n",
      "2            5.7           NaN            NaN           NaN\n"
     ]
    }
   ],
   "source": [
    "#Calculating Median for each species\n",
    "setosa_mode=setosa.mode(numeric_only=True)\n",
    "print(\"---SETOSA---\\n\",setosa_mode)\n",
    "virginica_mode=virginica.mode(numeric_only=True)\n",
    "print(\"\\n---VIRGINICA---\\n\",virginica_mode)\n",
    "versicolor_mode=versicolor.mode(numeric_only=True)\n",
    "print(\"\\n---VERSICOLOR---\\n\",versicolor_mode)"
   ]
  },
  {
   "cell_type": "code",
   "execution_count": 54,
   "metadata": {},
   "outputs": [
    {
     "data": {
      "text/plain": [
       "<AxesSubplot:>"
      ]
     },
     "execution_count": 54,
     "metadata": {},
     "output_type": "execute_result"
    },
    {
     "data": {
      "image/png": "[encoded data removed]",
      "text/plain": [
       "<Figure size 432x288 with 2 Axes>"
      ]
     },
     "metadata": {
      "needs_background": "light"
     },
     "output_type": "display_data"
    }
   ],
   "source": [
    "# Calculate the correlation matrix\n",
    "correlation = df[['SepalLengthCm', 'SepalWidthCm', 'PetalLengthCm', 'PetalWidthCm']].corr()\n",
    "\n",
    "# Visualize the correlation using a heatmap\n",
    "sns.heatmap(correlation, annot=True, cmap='coolwarm')"
   ]
  },
  {
   "cell_type": "code",
   "execution_count": 55,
   "metadata": {},
   "outputs": [
    {
     "data": {
      "text/plain": [
       "{'Iris-setosa': 5.0, 'Iris-versicolor': 5.9, 'Iris-virginica': 6.5}"
      ]
     },
     "execution_count": 55,
     "metadata": {},
     "output_type": "execute_result"
    }
   ],
   "source": [
    "#formula ni karayla lavla tarach\n",
    "medians = {}\n",
    "for species, group in grouped_data:\n",
    "    sorted_group = sorted(group)\n",
    "    group_length = len(sorted_group)\n",
    "    if group_length % 2 == 0:\n",
    "        median_index = group_length // 2\n",
    "        median_value = (sorted_group[median_index] + sorted_group[median_index - 1]) / 2\n",
    "    else:\n",
    "        median_index = group_length // 2\n",
    "        median_value = sorted_group[median_index]\n",
    "    medians[species] = median_value\n",
    "medians"
   ]
  },
  {
   "cell_type": "code",
   "execution_count": null,
   "metadata": {},
   "outputs": [],
   "source": []
  }
 ],
 "metadata": {
  "kernelspec": {
   "display_name": "Python 3",
   "language": "python",
   "name": "python3"
  },
  "language_info": {
   "codemirror_mode": {
    "name": "ipython",
    "version": 3
   },
   "file_extension": ".py",
   "mimetype": "text/x-python",
   "name": "python",
   "nbconvert_exporter": "python",
   "pygments_lexer": "ipython3",
   "version": "3.10.2"
  },
  "orig_nbformat": 4,
  "vscode": {
   "interpreter": {
    "hash": "a42ccb73e7d9bfdf27e036f1d2b8b681e55fc0743cc5586bc2474d4a60f4b886"
   }
  }
 },
 "nbformat": 4,
 "nbformat_minor": 2
}
